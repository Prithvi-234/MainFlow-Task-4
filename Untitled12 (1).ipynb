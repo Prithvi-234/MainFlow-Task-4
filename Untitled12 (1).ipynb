{
  "nbformat": 4,
  "nbformat_minor": 0,
  "metadata": {
    "colab": {
      "provenance": [],
      "toc_visible": true
    },
    "kernelspec": {
      "name": "python3",
      "display_name": "Python 3"
    },
    "language_info": {
      "name": "python"
    }
  },
  "cells": [
    {
      "cell_type": "code",
      "execution_count": null,
      "metadata": {
        "id": "bZp5iVtM8TlG"
      },
      "outputs": [],
      "source": [
        "import pandas as pd\n",
        "import matplotlib.pyplot as plt\n",
        "import seaborn as sns\n",
        "\n",
        "# Load the dataset\n",
        "file_path = \"C:/Users/Prithvi/Downloads/videos_data.csv\"\n",
        "data = pd.read_csv(file_path)\n",
        "\n",
        "# Display the first few rows of the dataset\n",
        "print(\"First few rows of the dataset:\")\n",
        "print(data.head())\n",
        "\n",
        "# Display summary statistics\n",
        "print(\"\\nSummary statistics of the dataset:\")\n",
        "print(data.describe(include='all'))\n",
        "\n",
        "# Set plot style\n",
        "sns.set(style=\"whitegrid\")\n",
        "\n",
        "# Histograms for numerical variables\n",
        "plt.figure(figsize=(10, 5))\n",
        "sns.histplot(data['Number of Videos'], kde=True)\n",
        "plt.title('Distribution of Number of Videos')\n",
        "plt.xlabel('Number of Videos')\n",
        "plt.ylabel('Frequency')\n",
        "plt.show()\n",
        "\n",
        "# Bar charts for categorical variables\n",
        "plt.figure(figsize=(10, 5))\n",
        "sns.countplot(x='Genre', data=data)\n",
        "plt.title('Distribution of Genres')\n",
        "plt.xlabel('Genre')\n",
        "plt.ylabel('Count')\n",
        "plt.show()\n",
        "\n",
        "plt.figure(figsize=(10, 5))\n",
        "sns.countplot(x='Type', data=data)\n",
        "plt.title('Distribution of Types')\n",
        "plt.xlabel('Type')\n",
        "plt.ylabel('Count')\n",
        "plt.show()\n",
        "\n",
        "plt.figure(figsize=(10, 5))\n",
        "sns.countplot(x='Composer', data=data)\n",
        "plt.title('Distribution of Composers')\n",
        "plt.xlabel('Composer')\n",
        "plt.ylabel('Count')\n",
        "plt.show()\n",
        "\n",
        "# Box plot to identify outliers\n",
        "plt.figure(figsize=(10, 5))\n",
        "sns.boxplot(x=data['Number of Videos'])\n",
        "plt.title('Box plot of Number of Videos')\n",
        "plt.xlabel('Number of Videos')\n",
        "plt.show()\n",
        "\n",
        "# Correlation matrix\n",
        "correlation_matrix = data.corr()\n",
        "plt.figure(figsize=(10, 5))\n",
        "sns.heatmap(correlation_matrix, annot=True, cmap='coolwarm', linewidths=0.5)\n",
        "plt.title('Correlation Matrix')\n",
        "plt.show()"
      ]
    }
  ]
}